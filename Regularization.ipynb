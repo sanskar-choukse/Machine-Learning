{
 "cells": [
  {
   "cell_type": "markdown",
   "id": "6b7afb4f",
   "metadata": {},
   "source": [
    "**Regularization:**\n",
    "\n",
    "Regularization ek technique hai machine learning me, jisse model overfitting se bacha rahe.\n",
    "\n",
    "Overfitting matlab:\n",
    "Model training data ko itna achha yaad kar leta hai ki wo mistakes bhi seekh leta hai. Fir jab new data aata hai, model galat predict karta hai.\n",
    "\n",
    "Regularization ka kaam:\n",
    "Regularization training ke time model ko punish karta hai agar wo bahut complex ho raha ho.\n",
    "It adds an extra term to the loss function, taaki model simple aur general ban sake."
   ]
  },
  {
   "cell_type": "markdown",
   "id": "17034a0e",
   "metadata": {},
   "source": [
    "🔸 Types of Regularization:\n",
    "1. L1 Regularization (Lasso)\n",
    "It makes some model weights exactly zero.\n",
    "\n",
    "So, it removes unimportant features.\n",
    "\n",
    "This is helpful when you want feature selection.\n",
    "\n",
    "✅ Simple Example:\n",
    "\n",
    "Imagine you have 10 books to study.\n",
    "L1 says: “Study only the 3 most important books, skip the rest.”\n",
    "\n",
    "2. L2 Regularization (Ridge)\n",
    "It makes all weights smaller, but none are zero.\n",
    "\n",
    "So, all features are kept, but their effect is reduced.\n",
    "\n",
    "This makes the model smooth and less sensitive.\n",
    "\n",
    "✅ Simple Example:\n",
    "\n",
    "You have 10 books to study.\n",
    "L2 says: “Study all 10 books, but just a little from each one.”"
   ]
  },
  {
   "cell_type": "code",
   "execution_count": 8,
   "id": "a0c5e1d2",
   "metadata": {},
   "outputs": [],
   "source": [
    "import pandas as pd\n",
    "import matplotlib.pyplot as plt\n",
    "import seaborn as sns\n",
    "from sklearn.preprocessing import StandardScaler\n",
    "from sklearn.model_selection import train_test_split"
   ]
  },
  {
   "cell_type": "code",
   "execution_count": 9,
   "id": "65951c69",
   "metadata": {},
   "outputs": [
    {
     "data": {
      "text/html": [
       "<div>\n",
       "<style scoped>\n",
       "    .dataframe tbody tr th:only-of-type {\n",
       "        vertical-align: middle;\n",
       "    }\n",
       "\n",
       "    .dataframe tbody tr th {\n",
       "        vertical-align: top;\n",
       "    }\n",
       "\n",
       "    .dataframe thead th {\n",
       "        text-align: right;\n",
       "    }\n",
       "</style>\n",
       "<table border=\"1\" class=\"dataframe\">\n",
       "  <thead>\n",
       "    <tr style=\"text-align: right;\">\n",
       "      <th></th>\n",
       "      <th>price</th>\n",
       "      <th>area</th>\n",
       "      <th>bedrooms</th>\n",
       "      <th>bathrooms</th>\n",
       "      <th>stories</th>\n",
       "      <th>mainroad</th>\n",
       "      <th>guestroom</th>\n",
       "      <th>basement</th>\n",
       "      <th>hotwaterheating</th>\n",
       "      <th>airconditioning</th>\n",
       "      <th>parking</th>\n",
       "      <th>prefarea</th>\n",
       "      <th>furnishingstatus</th>\n",
       "    </tr>\n",
       "  </thead>\n",
       "  <tbody>\n",
       "    <tr>\n",
       "      <th>0</th>\n",
       "      <td>13300000</td>\n",
       "      <td>7420</td>\n",
       "      <td>4</td>\n",
       "      <td>2</td>\n",
       "      <td>3</td>\n",
       "      <td>yes</td>\n",
       "      <td>no</td>\n",
       "      <td>no</td>\n",
       "      <td>no</td>\n",
       "      <td>yes</td>\n",
       "      <td>2</td>\n",
       "      <td>yes</td>\n",
       "      <td>furnished</td>\n",
       "    </tr>\n",
       "    <tr>\n",
       "      <th>1</th>\n",
       "      <td>12250000</td>\n",
       "      <td>8960</td>\n",
       "      <td>4</td>\n",
       "      <td>4</td>\n",
       "      <td>4</td>\n",
       "      <td>yes</td>\n",
       "      <td>no</td>\n",
       "      <td>no</td>\n",
       "      <td>no</td>\n",
       "      <td>yes</td>\n",
       "      <td>3</td>\n",
       "      <td>no</td>\n",
       "      <td>furnished</td>\n",
       "    </tr>\n",
       "    <tr>\n",
       "      <th>2</th>\n",
       "      <td>12250000</td>\n",
       "      <td>9960</td>\n",
       "      <td>3</td>\n",
       "      <td>2</td>\n",
       "      <td>2</td>\n",
       "      <td>yes</td>\n",
       "      <td>no</td>\n",
       "      <td>yes</td>\n",
       "      <td>no</td>\n",
       "      <td>no</td>\n",
       "      <td>2</td>\n",
       "      <td>yes</td>\n",
       "      <td>semi-furnished</td>\n",
       "    </tr>\n",
       "  </tbody>\n",
       "</table>\n",
       "</div>"
      ],
      "text/plain": [
       "      price  area  bedrooms  bathrooms  stories mainroad guestroom basement  \\\n",
       "0  13300000  7420         4          2        3      yes        no       no   \n",
       "1  12250000  8960         4          4        4      yes        no       no   \n",
       "2  12250000  9960         3          2        2      yes        no      yes   \n",
       "\n",
       "  hotwaterheating airconditioning  parking prefarea furnishingstatus  \n",
       "0              no             yes        2      yes        furnished  \n",
       "1              no             yes        3       no        furnished  \n",
       "2              no              no        2      yes   semi-furnished  "
      ]
     },
     "execution_count": 9,
     "metadata": {},
     "output_type": "execute_result"
    }
   ],
   "source": [
    "df=pd.read_csv('Housing.csv')\n",
    "df.head(3)"
   ]
  },
  {
   "cell_type": "markdown",
   "id": "98805904",
   "metadata": {},
   "source": [
    "please check will apply linear regression"
   ]
  },
  {
   "cell_type": "code",
   "execution_count": 10,
   "id": "e940b5e4",
   "metadata": {},
   "outputs": [
    {
     "data": {
      "image/png": "[encoded data removed]",
      "text/plain": [
       "<Figure size 1000x1000 with 2 Axes>"
      ]
     },
     "metadata": {},
     "output_type": "display_data"
    }
   ],
   "source": [
    "numeric_df = df.select_dtypes(include='number')\n",
    "\n",
    "plt.figure(figsize=(10,10)) \n",
    "sns.heatmap(data=numeric_df.corr(), annot=True)\n",
    "plt.show()"
   ]
  },
  {
   "cell_type": "code",
   "execution_count": 11,
   "id": "11876a51",
   "metadata": {},
   "outputs": [],
   "source": [
    "x=df.iloc[:,:-1]\n",
    "y=df[\"furnishingstatus\"]"
   ]
  },
  {
   "cell_type": "code",
   "execution_count": 12,
   "id": "da15faba",
   "metadata": {},
   "outputs": [],
   "source": [
    "# Convert non-numeric columns to numeric\n",
    "x = pd.get_dummies(x, drop_first=True)"
   ]
  },
  {
   "cell_type": "code",
   "execution_count": 14,
   "id": "f4542002",
   "metadata": {},
   "outputs": [],
   "source": [
    "sl=StandardScaler()\n",
    "x_scaled = sl.fit_transform(x)\n",
    "\n",
    "# Convert back to DataFrame\n",
    "x = pd.DataFrame(x_scaled, columns=x.columns) "
   ]
  },
  {
   "cell_type": "code",
   "execution_count": 15,
   "id": "b613cfc9",
   "metadata": {},
   "outputs": [
    {
     "data": {
      "text/html": [
       "<div>\n",
       "<style scoped>\n",
       "    .dataframe tbody tr th:only-of-type {\n",
       "        vertical-align: middle;\n",
       "    }\n",
       "\n",
       "    .dataframe tbody tr th {\n",
       "        vertical-align: top;\n",
       "    }\n",
       "\n",
       "    .dataframe thead th {\n",
       "        text-align: right;\n",
       "    }\n",
       "</style>\n",
       "<table border=\"1\" class=\"dataframe\">\n",
       "  <thead>\n",
       "    <tr style=\"text-align: right;\">\n",
       "      <th></th>\n",
       "      <th>price</th>\n",
       "      <th>area</th>\n",
       "      <th>bedrooms</th>\n",
       "      <th>bathrooms</th>\n",
       "      <th>stories</th>\n",
       "      <th>parking</th>\n",
       "      <th>mainroad_yes</th>\n",
       "      <th>guestroom_yes</th>\n",
       "      <th>basement_yes</th>\n",
       "      <th>hotwaterheating_yes</th>\n",
       "      <th>airconditioning_yes</th>\n",
       "      <th>prefarea_yes</th>\n",
       "    </tr>\n",
       "  </thead>\n",
       "  <tbody>\n",
       "    <tr>\n",
       "      <th>0</th>\n",
       "      <td>4.566365</td>\n",
       "      <td>1.046726</td>\n",
       "      <td>1.403419</td>\n",
       "      <td>1.421812</td>\n",
       "      <td>1.378217</td>\n",
       "      <td>1.517692</td>\n",
       "      <td>0.405623</td>\n",
       "      <td>-0.465315</td>\n",
       "      <td>-0.734539</td>\n",
       "      <td>-0.219265</td>\n",
       "      <td>1.472618</td>\n",
       "      <td>1.804941</td>\n",
       "    </tr>\n",
       "    <tr>\n",
       "      <th>1</th>\n",
       "      <td>4.004484</td>\n",
       "      <td>1.757010</td>\n",
       "      <td>1.403419</td>\n",
       "      <td>5.405809</td>\n",
       "      <td>2.532024</td>\n",
       "      <td>2.679409</td>\n",
       "      <td>0.405623</td>\n",
       "      <td>-0.465315</td>\n",
       "      <td>-0.734539</td>\n",
       "      <td>-0.219265</td>\n",
       "      <td>1.472618</td>\n",
       "      <td>-0.554035</td>\n",
       "    </tr>\n",
       "    <tr>\n",
       "      <th>2</th>\n",
       "      <td>4.004484</td>\n",
       "      <td>2.218232</td>\n",
       "      <td>0.047278</td>\n",
       "      <td>1.421812</td>\n",
       "      <td>0.224410</td>\n",
       "      <td>1.517692</td>\n",
       "      <td>0.405623</td>\n",
       "      <td>-0.465315</td>\n",
       "      <td>1.361397</td>\n",
       "      <td>-0.219265</td>\n",
       "      <td>-0.679063</td>\n",
       "      <td>1.804941</td>\n",
       "    </tr>\n",
       "    <tr>\n",
       "      <th>3</th>\n",
       "      <td>3.985755</td>\n",
       "      <td>1.083624</td>\n",
       "      <td>1.403419</td>\n",
       "      <td>1.421812</td>\n",
       "      <td>0.224410</td>\n",
       "      <td>2.679409</td>\n",
       "      <td>0.405623</td>\n",
       "      <td>-0.465315</td>\n",
       "      <td>1.361397</td>\n",
       "      <td>-0.219265</td>\n",
       "      <td>1.472618</td>\n",
       "      <td>1.804941</td>\n",
       "    </tr>\n",
       "    <tr>\n",
       "      <th>4</th>\n",
       "      <td>3.554979</td>\n",
       "      <td>1.046726</td>\n",
       "      <td>1.403419</td>\n",
       "      <td>-0.570187</td>\n",
       "      <td>0.224410</td>\n",
       "      <td>1.517692</td>\n",
       "      <td>0.405623</td>\n",
       "      <td>2.149083</td>\n",
       "      <td>1.361397</td>\n",
       "      <td>-0.219265</td>\n",
       "      <td>1.472618</td>\n",
       "      <td>-0.554035</td>\n",
       "    </tr>\n",
       "    <tr>\n",
       "      <th>...</th>\n",
       "      <td>...</td>\n",
       "      <td>...</td>\n",
       "      <td>...</td>\n",
       "      <td>...</td>\n",
       "      <td>...</td>\n",
       "      <td>...</td>\n",
       "      <td>...</td>\n",
       "      <td>...</td>\n",
       "      <td>...</td>\n",
       "      <td>...</td>\n",
       "      <td>...</td>\n",
       "      <td>...</td>\n",
       "    </tr>\n",
       "    <tr>\n",
       "      <th>540</th>\n",
       "      <td>-1.576868</td>\n",
       "      <td>-0.991879</td>\n",
       "      <td>-1.308863</td>\n",
       "      <td>-0.570187</td>\n",
       "      <td>-0.929397</td>\n",
       "      <td>1.517692</td>\n",
       "      <td>0.405623</td>\n",
       "      <td>-0.465315</td>\n",
       "      <td>1.361397</td>\n",
       "      <td>-0.219265</td>\n",
       "      <td>-0.679063</td>\n",
       "      <td>-0.554035</td>\n",
       "    </tr>\n",
       "    <tr>\n",
       "      <th>541</th>\n",
       "      <td>-1.605149</td>\n",
       "      <td>-1.268613</td>\n",
       "      <td>0.047278</td>\n",
       "      <td>-0.570187</td>\n",
       "      <td>-0.929397</td>\n",
       "      <td>-0.805741</td>\n",
       "      <td>-2.465344</td>\n",
       "      <td>-0.465315</td>\n",
       "      <td>-0.734539</td>\n",
       "      <td>-0.219265</td>\n",
       "      <td>-0.679063</td>\n",
       "      <td>-0.554035</td>\n",
       "    </tr>\n",
       "    <tr>\n",
       "      <th>542</th>\n",
       "      <td>-1.614327</td>\n",
       "      <td>-0.705921</td>\n",
       "      <td>-1.308863</td>\n",
       "      <td>-0.570187</td>\n",
       "      <td>-0.929397</td>\n",
       "      <td>-0.805741</td>\n",
       "      <td>0.405623</td>\n",
       "      <td>-0.465315</td>\n",
       "      <td>-0.734539</td>\n",
       "      <td>-0.219265</td>\n",
       "      <td>-0.679063</td>\n",
       "      <td>-0.554035</td>\n",
       "    </tr>\n",
       "    <tr>\n",
       "      <th>543</th>\n",
       "      <td>-1.614327</td>\n",
       "      <td>-1.033389</td>\n",
       "      <td>0.047278</td>\n",
       "      <td>-0.570187</td>\n",
       "      <td>-0.929397</td>\n",
       "      <td>-0.805741</td>\n",
       "      <td>-2.465344</td>\n",
       "      <td>-0.465315</td>\n",
       "      <td>-0.734539</td>\n",
       "      <td>-0.219265</td>\n",
       "      <td>-0.679063</td>\n",
       "      <td>-0.554035</td>\n",
       "    </tr>\n",
       "    <tr>\n",
       "      <th>544</th>\n",
       "      <td>-1.614327</td>\n",
       "      <td>-0.599839</td>\n",
       "      <td>0.047278</td>\n",
       "      <td>-0.570187</td>\n",
       "      <td>0.224410</td>\n",
       "      <td>-0.805741</td>\n",
       "      <td>0.405623</td>\n",
       "      <td>-0.465315</td>\n",
       "      <td>-0.734539</td>\n",
       "      <td>-0.219265</td>\n",
       "      <td>-0.679063</td>\n",
       "      <td>-0.554035</td>\n",
       "    </tr>\n",
       "  </tbody>\n",
       "</table>\n",
       "<p>545 rows × 12 columns</p>\n",
       "</div>"
      ],
      "text/plain": [
       "        price      area  bedrooms  bathrooms   stories   parking  \\\n",
       "0    4.566365  1.046726  1.403419   1.421812  1.378217  1.517692   \n",
       "1    4.004484  1.757010  1.403419   5.405809  2.532024  2.679409   \n",
       "2    4.004484  2.218232  0.047278   1.421812  0.224410  1.517692   \n",
       "3    3.985755  1.083624  1.403419   1.421812  0.224410  2.679409   \n",
       "4    3.554979  1.046726  1.403419  -0.570187  0.224410  1.517692   \n",
       "..        ...       ...       ...        ...       ...       ...   \n",
       "540 -1.576868 -0.991879 -1.308863  -0.570187 -0.929397  1.517692   \n",
       "541 -1.605149 -1.268613  0.047278  -0.570187 -0.929397 -0.805741   \n",
       "542 -1.614327 -0.705921 -1.308863  -0.570187 -0.929397 -0.805741   \n",
       "543 -1.614327 -1.033389  0.047278  -0.570187 -0.929397 -0.805741   \n",
       "544 -1.614327 -0.599839  0.047278  -0.570187  0.224410 -0.805741   \n",
       "\n",
       "     mainroad_yes  guestroom_yes  basement_yes  hotwaterheating_yes  \\\n",
       "0        0.405623      -0.465315     -0.734539            -0.219265   \n",
       "1        0.405623      -0.465315     -0.734539            -0.219265   \n",
       "2        0.405623      -0.465315      1.361397            -0.219265   \n",
       "3        0.405623      -0.465315      1.361397            -0.219265   \n",
       "4        0.405623       2.149083      1.361397            -0.219265   \n",
       "..            ...            ...           ...                  ...   \n",
       "540      0.405623      -0.465315      1.361397            -0.219265   \n",
       "541     -2.465344      -0.465315     -0.734539            -0.219265   \n",
       "542      0.405623      -0.465315     -0.734539            -0.219265   \n",
       "543     -2.465344      -0.465315     -0.734539            -0.219265   \n",
       "544      0.405623      -0.465315     -0.734539            -0.219265   \n",
       "\n",
       "     airconditioning_yes  prefarea_yes  \n",
       "0               1.472618      1.804941  \n",
       "1               1.472618     -0.554035  \n",
       "2              -0.679063      1.804941  \n",
       "3               1.472618      1.804941  \n",
       "4               1.472618     -0.554035  \n",
       "..                   ...           ...  \n",
       "540            -0.679063     -0.554035  \n",
       "541            -0.679063     -0.554035  \n",
       "542            -0.679063     -0.554035  \n",
       "543            -0.679063     -0.554035  \n",
       "544            -0.679063     -0.554035  \n",
       "\n",
       "[545 rows x 12 columns]"
      ]
     },
     "execution_count": 15,
     "metadata": {},
     "output_type": "execute_result"
    }
   ],
   "source": [
    "x"
   ]
  },
  {
   "cell_type": "code",
   "execution_count": 28,
   "id": "3d848b8e",
   "metadata": {},
   "outputs": [],
   "source": [
    "from sklearn.preprocessing import LabelEncoder\n",
    "\n",
    "le = LabelEncoder()\n",
    "y = le.fit_transform(df[\"furnishingstatus\"])\n"
   ]
  },
  {
   "cell_type": "code",
   "execution_count": 29,
   "id": "b56df060",
   "metadata": {},
   "outputs": [],
   "source": [
    "from sklearn.model_selection import train_test_split"
   ]
  },
  {
   "cell_type": "code",
   "execution_count": 30,
   "id": "83ed703a",
   "metadata": {},
   "outputs": [],
   "source": [
    "x_train,x_test,y_train,y_test= train_test_split(x,y,test_size=0.2,random_state=42)"
   ]
  },
  {
   "cell_type": "code",
   "execution_count": 31,
   "id": "981e918f",
   "metadata": {},
   "outputs": [],
   "source": [
    "from sklearn.linear_model import LinearRegression , Lasso , Ridge"
   ]
  },
  {
   "cell_type": "markdown",
   "id": "678b0cb9",
   "metadata": {},
   "source": [
    "**LinearRegression**"
   ]
  },
  {
   "cell_type": "code",
   "execution_count": 32,
   "id": "6cc9359f",
   "metadata": {},
   "outputs": [
    {
     "data": {
      "text/plain": [
       "2.8483319816072883"
      ]
     },
     "execution_count": 32,
     "metadata": {},
     "output_type": "execute_result"
    }
   ],
   "source": [
    "lr=LinearRegression()\n",
    "lr.fit(x_train,y_train)\n",
    "lr.score(x_test,y_test)*100 "
   ]
  },
  {
   "cell_type": "code",
   "execution_count": 33,
   "id": "ba37506d",
   "metadata": {},
   "outputs": [
    {
     "data": {
      "text/plain": [
       "array([-0.20205605,  0.03654158,  0.00657589,  0.03108353, -0.04520773,\n",
       "       -0.06569575, -0.06036896, -0.00894049, -0.07245169, -0.00813358,\n",
       "       -0.0098828 ,  0.01531345])"
      ]
     },
     "execution_count": 33,
     "metadata": {},
     "output_type": "execute_result"
    }
   ],
   "source": [
    "lr.coef_"
   ]
  },
  {
   "cell_type": "code",
   "execution_count": 39,
   "id": "c7c2abc9",
   "metadata": {},
   "outputs": [
    {
     "data": {
      "image/png": "[encoded data removed]",
      "text/plain": [
       "<Figure size 640x480 with 1 Axes>"
      ]
     },
     "metadata": {},
     "output_type": "display_data"
    }
   ],
   "source": [
    "plt.Figure(figsize=(25,10))\n",
    "plt.bar(x.columns,lr.coef_)\n",
    "plt.title('LinearRegression')\n",
    "plt.xlabel('column')\n",
    "plt.ylabel('coef')\n",
    "plt.show()"
   ]
  },
  {
   "cell_type": "markdown",
   "id": "b87b2397",
   "metadata": {},
   "source": [
    "**Lasso(L1)** that use for feature selection\n",
    "\n",
    "feature selection mean that remove the unwanted columns"
   ]
  },
  {
   "cell_type": "code",
   "execution_count": 58,
   "id": "c9478180",
   "metadata": {},
   "outputs": [
    {
     "data": {
      "text/plain": [
       "-0.4040876302431329"
      ]
     },
     "execution_count": 58,
     "metadata": {},
     "output_type": "execute_result"
    }
   ],
   "source": [
    "# la=Lasso(alpha=0.01)\n",
    "# or \n",
    "# la=Lasso(alpha=0.5)\n",
    "# or \n",
    "la=Lasso(alpha=10)\n",
    "la.fit(x_train,y_train)\n",
    "la.score(x_test,y_test)*100"
   ]
  },
  {
   "cell_type": "code",
   "execution_count": 59,
   "id": "c9a13be5",
   "metadata": {},
   "outputs": [
    {
     "data": {
      "image/png": "[encoded data removed]",
      "text/plain": [
       "<Figure size 640x480 with 1 Axes>"
      ]
     },
     "metadata": {},
     "output_type": "display_data"
    }
   ],
   "source": [
    "plt.Figure(figsize=(15,5))\n",
    "plt.bar(x.columns,la.coef_)\n",
    "plt.title(\"Lasso\")\n",
    "plt.xlabel(\"columns\")\n",
    "plt.ylabel('coef')\n",
    "plt.show()"
   ]
  },
  {
   "cell_type": "markdown",
   "id": "836890ac",
   "metadata": {},
   "source": [
    "**Ridge** means all features are kept, but their effect is reduced."
   ]
  },
  {
   "cell_type": "code",
   "execution_count": 68,
   "id": "99f2540d",
   "metadata": {},
   "outputs": [
    {
     "data": {
      "text/plain": [
       "0.028530318778025254"
      ]
     },
     "execution_count": 68,
     "metadata": {},
     "output_type": "execute_result"
    }
   ],
   "source": [
    "# ri=Ridge(alpha=10)\n",
    "# ri=Ridge(alpha=0.5)\n",
    "ri=Ridge(alpha=0.1)\n",
    "ri.fit(x_train,y_train)\n",
    "ri.score(x_test,y_test)"
   ]
  },
  {
   "cell_type": "code",
   "execution_count": 69,
   "id": "5cf1414c",
   "metadata": {},
   "outputs": [
    {
     "data": {
      "image/png": "[encoded data removed]",
      "text/plain": [
       "<Figure size 640x480 with 1 Axes>"
      ]
     },
     "metadata": {},
     "output_type": "display_data"
    }
   ],
   "source": [
    "plt.Figure(figsize=(15,5))\n",
    "plt.bar(x.columns,ri.coef_)\n",
    "plt.title(\"Ridge\")\n",
    "plt.xlabel(\"Columns\")\n",
    "plt.ylabel(\"coef\")\n",
    "plt.show()"
   ]
  },
  {
   "cell_type": "markdown",
   "id": "23d23a4d",
   "metadata": {},
   "source": [
    "we can find which is the best of three"
   ]
  },
  {
   "cell_type": "code",
   "execution_count": 70,
   "id": "2de02086",
   "metadata": {},
   "outputs": [],
   "source": [
    "from sklearn.metrics import mean_absolute_error,mean_squared_error\n",
    "import numpy as np"
   ]
  },
  {
   "cell_type": "code",
   "execution_count": 76,
   "id": "c49a42e5",
   "metadata": {},
   "outputs": [
    {
     "name": "stdout",
     "output_type": "stream",
     "text": [
      "0.6121348260126992\n",
      "0.6528965180210886\n",
      "0.7823904562382514\n"
     ]
    }
   ],
   "source": [
    "# for LinearRegression\n",
    "print(mean_squared_error(y_test,lr.predict(x_test)))\n",
    "print(mean_absolute_error(y_test,lr.predict(x_test)))\n",
    "print(np.sqrt(mean_squared_error(y_test,lr.predict(x_test))))\n",
    "# y_test=Actual data\n",
    "# lr.predict(x_test)=preduction data"
   ]
  },
  {
   "cell_type": "code",
   "execution_count": 77,
   "id": "697de0d1",
   "metadata": {},
   "outputs": [
    {
     "name": "stdout",
     "output_type": "stream",
     "text": [
      "0.6326277249389785\n",
      "0.6569733187442134\n",
      "0.7953789819570155\n"
     ]
    }
   ],
   "source": [
    "# for Lasso\n",
    "print(mean_squared_error(y_test,la.predict(x_test)))\n",
    "print(mean_absolute_error(y_test,la.predict(x_test)))\n",
    "print(np.sqrt(mean_squared_error(y_test,la.predict(x_test))))\n",
    "# y_test=Actual data\n",
    "# lr.predict(x_test)=preduction data"
   ]
  },
  {
   "cell_type": "code",
   "execution_count": 78,
   "id": "296ef9a9",
   "metadata": {},
   "outputs": [
    {
     "name": "stdout",
     "output_type": "stream",
     "text": [
      "0.6121052128295349\n",
      "0.6528911052400972\n",
      "0.782371531198276\n"
     ]
    }
   ],
   "source": [
    "# for Ridge\n",
    "print(mean_squared_error(y_test,ri.predict(x_test)))\n",
    "print(mean_absolute_error(y_test,ri.predict(x_test)))\n",
    "print(np.sqrt(mean_squared_error(y_test,ri.predict(x_test))))\n",
    "# y_test=Actual data\n",
    "# lr.predict(x_test)=preduction data"
   ]
  },
  {
   "cell_type": "code",
   "execution_count": 80,
   "id": "02fe32ae",
   "metadata": {},
   "outputs": [],
   "source": [
    "df=pd.DataFrame({'col_name':x.columns,\"LinearRegression\":lr.coef_,\"Lasso\":la.coef_,\"Ridge\":ri.coef_})"
   ]
  },
  {
   "cell_type": "code",
   "execution_count": 81,
   "id": "18b1d338",
   "metadata": {},
   "outputs": [
    {
     "data": {
      "text/html": [
       "<div>\n",
       "<style scoped>\n",
       "    .dataframe tbody tr th:only-of-type {\n",
       "        vertical-align: middle;\n",
       "    }\n",
       "\n",
       "    .dataframe tbody tr th {\n",
       "        vertical-align: top;\n",
       "    }\n",
       "\n",
       "    .dataframe thead th {\n",
       "        text-align: right;\n",
       "    }\n",
       "</style>\n",
       "<table border=\"1\" class=\"dataframe\">\n",
       "  <thead>\n",
       "    <tr style=\"text-align: right;\">\n",
       "      <th></th>\n",
       "      <th>col_name</th>\n",
       "      <th>LinearRegression</th>\n",
       "      <th>Lasso</th>\n",
       "      <th>Ridge</th>\n",
       "    </tr>\n",
       "  </thead>\n",
       "  <tbody>\n",
       "    <tr>\n",
       "      <th>0</th>\n",
       "      <td>price</td>\n",
       "      <td>-0.202056</td>\n",
       "      <td>-0.0</td>\n",
       "      <td>-0.201902</td>\n",
       "    </tr>\n",
       "    <tr>\n",
       "      <th>1</th>\n",
       "      <td>area</td>\n",
       "      <td>0.036542</td>\n",
       "      <td>-0.0</td>\n",
       "      <td>0.036485</td>\n",
       "    </tr>\n",
       "    <tr>\n",
       "      <th>2</th>\n",
       "      <td>bedrooms</td>\n",
       "      <td>0.006576</td>\n",
       "      <td>-0.0</td>\n",
       "      <td>0.006565</td>\n",
       "    </tr>\n",
       "    <tr>\n",
       "      <th>3</th>\n",
       "      <td>bathrooms</td>\n",
       "      <td>0.031084</td>\n",
       "      <td>-0.0</td>\n",
       "      <td>0.031022</td>\n",
       "    </tr>\n",
       "    <tr>\n",
       "      <th>4</th>\n",
       "      <td>stories</td>\n",
       "      <td>-0.045208</td>\n",
       "      <td>-0.0</td>\n",
       "      <td>-0.045216</td>\n",
       "    </tr>\n",
       "    <tr>\n",
       "      <th>5</th>\n",
       "      <td>parking</td>\n",
       "      <td>-0.065696</td>\n",
       "      <td>-0.0</td>\n",
       "      <td>-0.065693</td>\n",
       "    </tr>\n",
       "    <tr>\n",
       "      <th>6</th>\n",
       "      <td>mainroad_yes</td>\n",
       "      <td>-0.060369</td>\n",
       "      <td>-0.0</td>\n",
       "      <td>-0.060367</td>\n",
       "    </tr>\n",
       "    <tr>\n",
       "      <th>7</th>\n",
       "      <td>guestroom_yes</td>\n",
       "      <td>-0.008940</td>\n",
       "      <td>-0.0</td>\n",
       "      <td>-0.008953</td>\n",
       "    </tr>\n",
       "    <tr>\n",
       "      <th>8</th>\n",
       "      <td>basement_yes</td>\n",
       "      <td>-0.072452</td>\n",
       "      <td>-0.0</td>\n",
       "      <td>-0.072443</td>\n",
       "    </tr>\n",
       "    <tr>\n",
       "      <th>9</th>\n",
       "      <td>hotwaterheating_yes</td>\n",
       "      <td>-0.008134</td>\n",
       "      <td>-0.0</td>\n",
       "      <td>-0.008146</td>\n",
       "    </tr>\n",
       "    <tr>\n",
       "      <th>10</th>\n",
       "      <td>airconditioning_yes</td>\n",
       "      <td>-0.009883</td>\n",
       "      <td>-0.0</td>\n",
       "      <td>-0.009918</td>\n",
       "    </tr>\n",
       "    <tr>\n",
       "      <th>11</th>\n",
       "      <td>prefarea_yes</td>\n",
       "      <td>0.015313</td>\n",
       "      <td>-0.0</td>\n",
       "      <td>0.015282</td>\n",
       "    </tr>\n",
       "  </tbody>\n",
       "</table>\n",
       "</div>"
      ],
      "text/plain": [
       "               col_name  LinearRegression  Lasso     Ridge\n",
       "0                 price         -0.202056   -0.0 -0.201902\n",
       "1                  area          0.036542   -0.0  0.036485\n",
       "2              bedrooms          0.006576   -0.0  0.006565\n",
       "3             bathrooms          0.031084   -0.0  0.031022\n",
       "4               stories         -0.045208   -0.0 -0.045216\n",
       "5               parking         -0.065696   -0.0 -0.065693\n",
       "6          mainroad_yes         -0.060369   -0.0 -0.060367\n",
       "7         guestroom_yes         -0.008940   -0.0 -0.008953\n",
       "8          basement_yes         -0.072452   -0.0 -0.072443\n",
       "9   hotwaterheating_yes         -0.008134   -0.0 -0.008146\n",
       "10  airconditioning_yes         -0.009883   -0.0 -0.009918\n",
       "11         prefarea_yes          0.015313   -0.0  0.015282"
      ]
     },
     "execution_count": 81,
     "metadata": {},
     "output_type": "execute_result"
    }
   ],
   "source": [
    "df"
   ]
  },
  {
   "cell_type": "code",
   "execution_count": null,
   "id": "657c7d83",
   "metadata": {},
   "outputs": [],
   "source": []
  }
 ],
 "metadata": {
  "kernelspec": {
   "display_name": "Python 3",
   "language": "python",
   "name": "python3"
  },
  "language_info": {
   "codemirror_mode": {
    "name": "ipython",
    "version": 3
   },
   "file_extension": ".py",
   "mimetype": "text/x-python",
   "name": "python",
   "nbconvert_exporter": "python",
   "pygments_lexer": "ipython3",
   "version": "3.12.9"
  }
 },
 "nbformat": 4,
 "nbformat_minor": 5
}
